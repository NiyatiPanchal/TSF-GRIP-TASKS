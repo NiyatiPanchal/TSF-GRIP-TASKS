{
  "nbformat": 4,
  "nbformat_minor": 0,
  "metadata": {
    "kernelspec": {
      "name": "python3",
      "display_name": "Python 3",
      "language": "python"
    },
    "language_info": {
      "name": "python",
      "version": "3.6.11",
      "mimetype": "text/x-python",
      "codemirror_mode": {
        "name": "ipython",
        "version": 3
      },
      "pygments_lexer": "ipython3",
      "nbconvert_exporter": "python",
      "file_extension": ".py"
    },
    "colab": {
      "name": "Prediction using Supervised ML.ipynb",
      "provenance": [],
      "toc_visible": true
    }
  },
  "cells": [
    {
      "cell_type": "markdown",
      "metadata": {
        "id": "XFFBO3YXzr-s"
      },
      "source": [
        "# <center><b><u>The Spark Foundation</u></b></center>\n",
        "## Task 1 : Prediction using Supervised ML\n",
        "### Simple Linear Regression\n",
        "In this regression task we will predict the percentage of marks that a student is expected to score based upon the number of hours they studied."
      ]
    },
    {
      "cell_type": "markdown",
      "metadata": {
        "id": "jAmfH2ZCzr-t"
      },
      "source": [
        "## Name : Niyati Panchal "
      ]
    },
    {
      "cell_type": "markdown",
      "metadata": {
        "id": "mw4UeXCXzr-u"
      },
      "source": [
        "#### Step 1 - Import Libraries "
      ]
    },
    {
      "cell_type": "code",
      "metadata": {
        "trusted": true,
        "id": "z6jsp6dVzr-v"
      },
      "source": [
        "import numpy as np\n",
        "import pandas as pd\n",
        "import matplotlib.pyplot as plt\n",
        "%matplotlib inline"
      ],
      "execution_count": null,
      "outputs": []
    },
    {
      "cell_type": "markdown",
      "metadata": {
        "id": "a8cBC2r_zr-z"
      },
      "source": [
        "#### Step 2 - Loading Dataset "
      ]
    },
    {
      "cell_type": "code",
      "metadata": {
        "trusted": true,
        "id": "MKar5Oytzr-0",
        "outputId": "15f25131-3366-469f-f653-7f70cbb8d292"
      },
      "source": [
        "data = \"http://bit.ly/w-data\"\n",
        "sd = pd.read_csv(data)\n",
        "\n",
        "sd.head()"
      ],
      "execution_count": null,
      "outputs": [
        {
          "output_type": "execute_result",
          "data": {
            "text/plain": [
              "   Hours  Scores\n",
              "0    2.5      21\n",
              "1    5.1      47\n",
              "2    3.2      27\n",
              "3    8.5      75\n",
              "4    3.5      30"
            ],
            "text/html": [
              "<div>\n",
              "<style scoped>\n",
              "    .dataframe tbody tr th:only-of-type {\n",
              "        vertical-align: middle;\n",
              "    }\n",
              "\n",
              "    .dataframe tbody tr th {\n",
              "        vertical-align: top;\n",
              "    }\n",
              "\n",
              "    .dataframe thead th {\n",
              "        text-align: right;\n",
              "    }\n",
              "</style>\n",
              "<table border=\"1\" class=\"dataframe\">\n",
              "  <thead>\n",
              "    <tr style=\"text-align: right;\">\n",
              "      <th></th>\n",
              "      <th>Hours</th>\n",
              "      <th>Scores</th>\n",
              "    </tr>\n",
              "  </thead>\n",
              "  <tbody>\n",
              "    <tr>\n",
              "      <th>0</th>\n",
              "      <td>2.5</td>\n",
              "      <td>21</td>\n",
              "    </tr>\n",
              "    <tr>\n",
              "      <th>1</th>\n",
              "      <td>5.1</td>\n",
              "      <td>47</td>\n",
              "    </tr>\n",
              "    <tr>\n",
              "      <th>2</th>\n",
              "      <td>3.2</td>\n",
              "      <td>27</td>\n",
              "    </tr>\n",
              "    <tr>\n",
              "      <th>3</th>\n",
              "      <td>8.5</td>\n",
              "      <td>75</td>\n",
              "    </tr>\n",
              "    <tr>\n",
              "      <th>4</th>\n",
              "      <td>3.5</td>\n",
              "      <td>30</td>\n",
              "    </tr>\n",
              "  </tbody>\n",
              "</table>\n",
              "</div>"
            ]
          },
          "metadata": {
            "tags": []
          },
          "execution_count": 2
        }
      ]
    },
    {
      "cell_type": "markdown",
      "metadata": {
        "id": "k9Zn0Xvxzr-4"
      },
      "source": [
        "#### Step 3 - Describing Data"
      ]
    },
    {
      "cell_type": "code",
      "metadata": {
        "trusted": true,
        "id": "4PkZsmnlzr-5",
        "outputId": "60d284ac-3713-4c94-80f6-e01949925389"
      },
      "source": [
        "sd.info()"
      ],
      "execution_count": null,
      "outputs": [
        {
          "output_type": "stream",
          "text": [
            "<class 'pandas.core.frame.DataFrame'>\n",
            "RangeIndex: 25 entries, 0 to 24\n",
            "Data columns (total 2 columns):\n",
            " #   Column  Non-Null Count  Dtype  \n",
            "---  ------  --------------  -----  \n",
            " 0   Hours   25 non-null     float64\n",
            " 1   Scores  25 non-null     int64  \n",
            "dtypes: float64(1), int64(1)\n",
            "memory usage: 528.0 bytes\n"
          ],
          "name": "stdout"
        }
      ]
    },
    {
      "cell_type": "markdown",
      "metadata": {
        "id": "jhYObXduzr-8"
      },
      "source": [
        "#### Step 4 - Plotting Data"
      ]
    },
    {
      "cell_type": "code",
      "metadata": {
        "trusted": true,
        "id": "wty-V6-vzr-9",
        "outputId": "4b028dd6-31d7-4b8f-d6a8-32bca845996f"
      },
      "source": [
        "plt.scatter(sd[\"Hours\"], sd[\"Scores\"])  \n",
        "plt.title('Study Time(hrs) vs Score(percentage)')  \n",
        "plt.xlabel('Study Time(hrs)')  \n",
        "plt.ylabel('Score(percentage)')  "
      ],
      "execution_count": null,
      "outputs": [
        {
          "output_type": "execute_result",
          "data": {
            "text/plain": [
              "Text(0, 0.5, 'Score(percentage)')"
            ]
          },
          "metadata": {
            "tags": []
          },
          "execution_count": 4
        },
        {
          "output_type": "display_data",
          "data": {
            "text/plain": [
              "<Figure size 432x288 with 1 Axes>"
            ],
            "image/png": "[encoded data removed]"
          },
          "metadata": {
            "tags": [],
            "needs_background": "light"
          }
        }
      ]
    },
    {
      "cell_type": "markdown",
      "metadata": {
        "id": "AeQDYH1Hzr_A"
      },
      "source": [
        "From the above graph, we can clearly see that Study time of Student and Scored Percentage is in linear correlation."
      ]
    },
    {
      "cell_type": "markdown",
      "metadata": {
        "id": "vD6v5I8Yzr_A"
      },
      "source": [
        "#### Step 5 - Train the Data"
      ]
    },
    {
      "cell_type": "code",
      "metadata": {
        "trusted": true,
        "id": "ByTRNyMZzr_B"
      },
      "source": [
        "X = sd.iloc[:, :-1].values  \n",
        "y = sd.iloc[:, 1].values  "
      ],
      "execution_count": null,
      "outputs": []
    },
    {
      "cell_type": "code",
      "metadata": {
        "trusted": true,
        "id": "DRJB9TIzzr_E"
      },
      "source": [
        "from sklearn.model_selection import train_test_split  \n",
        "X_train, X_test, y_train, y_test = train_test_split(X, y, test_size=0.2, random_state=0) "
      ],
      "execution_count": null,
      "outputs": []
    },
    {
      "cell_type": "code",
      "metadata": {
        "trusted": true,
        "id": "5DBOXvOTzr_H",
        "outputId": "75bd7db3-2f36-440b-9dd0-4c28100360aa"
      },
      "source": [
        "from sklearn.linear_model import LinearRegression as lr\n",
        "reg = lr()  \n",
        "reg.fit(X_train, y_train) "
      ],
      "execution_count": null,
      "outputs": [
        {
          "output_type": "execute_result",
          "data": {
            "text/plain": [
              "LinearRegression()"
            ]
          },
          "metadata": {
            "tags": []
          },
          "execution_count": 7
        }
      ]
    },
    {
      "cell_type": "markdown",
      "metadata": {
        "id": "XE7cqzEkzr_K"
      },
      "source": [
        "#### Step 6 - Plotting Regression Line"
      ]
    },
    {
      "cell_type": "code",
      "metadata": {
        "trusted": true,
        "id": "-i-bcsV4zr_K"
      },
      "source": [
        "rl = reg.coef_ * X + reg.intercept_"
      ],
      "execution_count": null,
      "outputs": []
    },
    {
      "cell_type": "code",
      "metadata": {
        "trusted": true,
        "id": "nj7sMyepzr_M",
        "outputId": "2f6d689b-5a30-4c06-ad9c-4a2c40d91653"
      },
      "source": [
        "plt.scatter(X, y)\n",
        "plt.plot(X, rl)\n",
        "plt.title('Study Time(hrs) vs Score(percentage)\\nLinear Regression Graph')  \n",
        "plt.xlabel('Study Time(hrs)')  \n",
        "plt.ylabel('Score(percentage)')  "
      ],
      "execution_count": null,
      "outputs": [
        {
          "output_type": "execute_result",
          "data": {
            "text/plain": [
              "Text(0, 0.5, 'Score(percentage)')"
            ]
          },
          "metadata": {
            "tags": []
          },
          "execution_count": 9
        },
        {
          "output_type": "display_data",
          "data": {
            "text/plain": [
              "<Figure size 432x288 with 1 Axes>"
            ],
            "image/png": "[encoded data removed]"
          },
          "metadata": {
            "tags": [],
            "needs_background": "light"
          }
        }
      ]
    },
    {
      "cell_type": "markdown",
      "metadata": {
        "id": "LBfBf_Chzr_P"
      },
      "source": [
        "#### Step 7 - Data Prediction "
      ]
    },
    {
      "cell_type": "code",
      "metadata": {
        "trusted": true,
        "id": "9SrdK7-6zr_P",
        "outputId": "d6b24668-66ba-4e03-f1d5-9ef654e5440b"
      },
      "source": [
        "pred = reg.predict(X_test)\n",
        "df = pd.DataFrame({'Actual': y_test, 'Predicted': pred})  \n",
        "df "
      ],
      "execution_count": null,
      "outputs": [
        {
          "output_type": "execute_result",
          "data": {
            "text/plain": [
              "   Actual  Predicted\n",
              "0      20  16.884145\n",
              "1      27  33.732261\n",
              "2      69  75.357018\n",
              "3      30  26.794801\n",
              "4      62  60.491033"
            ],
            "text/html": [
              "<div>\n",
              "<style scoped>\n",
              "    .dataframe tbody tr th:only-of-type {\n",
              "        vertical-align: middle;\n",
              "    }\n",
              "\n",
              "    .dataframe tbody tr th {\n",
              "        vertical-align: top;\n",
              "    }\n",
              "\n",
              "    .dataframe thead th {\n",
              "        text-align: right;\n",
              "    }\n",
              "</style>\n",
              "<table border=\"1\" class=\"dataframe\">\n",
              "  <thead>\n",
              "    <tr style=\"text-align: right;\">\n",
              "      <th></th>\n",
              "      <th>Actual</th>\n",
              "      <th>Predicted</th>\n",
              "    </tr>\n",
              "  </thead>\n",
              "  <tbody>\n",
              "    <tr>\n",
              "      <th>0</th>\n",
              "      <td>20</td>\n",
              "      <td>16.884145</td>\n",
              "    </tr>\n",
              "    <tr>\n",
              "      <th>1</th>\n",
              "      <td>27</td>\n",
              "      <td>33.732261</td>\n",
              "    </tr>\n",
              "    <tr>\n",
              "      <th>2</th>\n",
              "      <td>69</td>\n",
              "      <td>75.357018</td>\n",
              "    </tr>\n",
              "    <tr>\n",
              "      <th>3</th>\n",
              "      <td>30</td>\n",
              "      <td>26.794801</td>\n",
              "    </tr>\n",
              "    <tr>\n",
              "      <th>4</th>\n",
              "      <td>62</td>\n",
              "      <td>60.491033</td>\n",
              "    </tr>\n",
              "  </tbody>\n",
              "</table>\n",
              "</div>"
            ]
          },
          "metadata": {
            "tags": []
          },
          "execution_count": 10
        }
      ]
    },
    {
      "cell_type": "markdown",
      "metadata": {
        "id": "iq3jqbjRzr_S"
      },
      "source": [
        "#### Step 8 - Predicted Score if a Student Studies for 9.25 hrs/ day"
      ]
    },
    {
      "cell_type": "code",
      "metadata": {
        "trusted": true,
        "id": "lUS-OrAlzr_S",
        "outputId": "c6b22028-05fa-409f-8b6b-23bb5eec7aad"
      },
      "source": [
        "result = reg.predict([[9.25]])\n",
        "print(\"No of Hours = 9.25\")\n",
        "print(\"Predicted Score = {}\".format(result[0]))"
      ],
      "execution_count": null,
      "outputs": [
        {
          "output_type": "stream",
          "text": [
            "No of Hours = 9.25\n",
            "Predicted Score = 93.69173248737539\n"
          ],
          "name": "stdout"
        }
      ]
    },
    {
      "cell_type": "markdown",
      "metadata": {
        "id": "UPOy4JChzr_V"
      },
      "source": [
        "From the Prediction Result, if a Student Studied for 9.25 hrs/day he would achieve approximately 93.7% score. "
      ]
    },
    {
      "cell_type": "markdown",
      "metadata": {
        "id": "tCNlYt4kzr_V"
      },
      "source": [
        "#### Step 9 - Accuracy of ML Model"
      ]
    },
    {
      "cell_type": "code",
      "metadata": {
        "trusted": true,
        "id": "YjXHfprzzr_W",
        "outputId": "08346401-972b-4a5a-cd7c-f990e7bac91d"
      },
      "source": [
        "print(\"Accuracy is :\", reg.score(X_test, y_test))"
      ],
      "execution_count": null,
      "outputs": [
        {
          "output_type": "stream",
          "text": [
            "Accuracy is : 0.9454906892105354\n"
          ],
          "name": "stdout"
        }
      ]
    },
    {
      "cell_type": "code",
      "metadata": {
        "trusted": true,
        "id": "jpud7pKzzr_Y"
      },
      "source": [
        ""
      ],
      "execution_count": null,
      "outputs": []
    }
  ]
}